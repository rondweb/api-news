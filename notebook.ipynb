{
 "cells": [
  {
   "cell_type": "code",
   "execution_count": 1,
   "id": "4d5b70d3-d6e0-4755-b315-9cc1cd842f90",
   "metadata": {},
   "outputs": [
    {
     "name": "stdout",
     "output_type": "stream",
     "text": [
      "Requirement already satisfied: Flask in c:\\users\\ronda\\miniconda3\\envs\\newsclip\\lib\\site-packages (2.1.2)\n",
      "Requirement already satisfied: itsdangerous>=2.0 in c:\\users\\ronda\\miniconda3\\envs\\newsclip\\lib\\site-packages (from Flask) (2.1.2)\n",
      "Requirement already satisfied: Jinja2>=3.0 in c:\\users\\ronda\\miniconda3\\envs\\newsclip\\lib\\site-packages (from Flask) (3.1.2)\n",
      "Requirement already satisfied: click>=8.0 in c:\\users\\ronda\\miniconda3\\envs\\newsclip\\lib\\site-packages (from Flask) (8.1.3)\n",
      "Requirement already satisfied: Werkzeug>=2.0 in c:\\users\\ronda\\miniconda3\\envs\\newsclip\\lib\\site-packages (from Flask) (2.1.2)\n",
      "Requirement already satisfied: colorama in c:\\users\\ronda\\miniconda3\\envs\\newsclip\\lib\\site-packages (from click>=8.0->Flask) (0.4.5)\n",
      "Requirement already satisfied: MarkupSafe>=2.0 in c:\\users\\ronda\\miniconda3\\envs\\newsclip\\lib\\site-packages (from Jinja2>=3.0->Flask) (2.1.1)\n",
      "Requirement already satisfied: pywebio in c:\\users\\ronda\\miniconda3\\envs\\newsclip\\lib\\site-packages (1.6.1)\n",
      "Requirement already satisfied: user-agents in c:\\users\\ronda\\miniconda3\\envs\\newsclip\\lib\\site-packages (from pywebio) (2.2.0)\n",
      "Requirement already satisfied: tornado>=5.0 in c:\\users\\ronda\\miniconda3\\envs\\newsclip\\lib\\site-packages (from pywebio) (6.2)\n",
      "Requirement already satisfied: ua-parser>=0.10.0 in c:\\users\\ronda\\miniconda3\\envs\\newsclip\\lib\\site-packages (from user-agents->pywebio) (0.15.0)\n",
      "Requirement already satisfied: requests in c:\\users\\ronda\\miniconda3\\envs\\newsclip\\lib\\site-packages (2.28.1)\n",
      "Requirement already satisfied: idna<4,>=2.5 in c:\\users\\ronda\\miniconda3\\envs\\newsclip\\lib\\site-packages (from requests) (2.10)\n",
      "Requirement already satisfied: charset-normalizer<3,>=2 in c:\\users\\ronda\\miniconda3\\envs\\newsclip\\lib\\site-packages (from requests) (2.1.0)\n",
      "Requirement already satisfied: certifi>=2017.4.17 in c:\\users\\ronda\\miniconda3\\envs\\newsclip\\lib\\site-packages (from requests) (2022.6.15)\n",
      "Requirement already satisfied: urllib3<1.27,>=1.21.1 in c:\\users\\ronda\\miniconda3\\envs\\newsclip\\lib\\site-packages (from requests) (1.26.9)\n",
      "Requirement already satisfied: newsdataapi in c:\\users\\ronda\\miniconda3\\envs\\newsclip\\lib\\site-packages (0.1.5)\n",
      "Requirement already satisfied: requests<3.0.0 in c:\\users\\ronda\\miniconda3\\envs\\newsclip\\lib\\site-packages (from newsdataapi) (2.28.1)\n",
      "Requirement already satisfied: idna<4,>=2.5 in c:\\users\\ronda\\miniconda3\\envs\\newsclip\\lib\\site-packages (from requests<3.0.0->newsdataapi) (2.10)\n",
      "Requirement already satisfied: charset-normalizer<3,>=2 in c:\\users\\ronda\\miniconda3\\envs\\newsclip\\lib\\site-packages (from requests<3.0.0->newsdataapi) (2.1.0)\n",
      "Requirement already satisfied: certifi>=2017.4.17 in c:\\users\\ronda\\miniconda3\\envs\\newsclip\\lib\\site-packages (from requests<3.0.0->newsdataapi) (2022.6.15)\n",
      "Requirement already satisfied: urllib3<1.27,>=1.21.1 in c:\\users\\ronda\\miniconda3\\envs\\newsclip\\lib\\site-packages (from requests<3.0.0->newsdataapi) (1.26.9)\n"
     ]
    }
   ],
   "source": [
    "!pip install Flask\n",
    "!pip install pywebio  \n",
    "!pip install requests \n",
    "!pip install newsdataapi"
   ]
  },
  {
   "cell_type": "code",
   "execution_count": null,
   "id": "7fdc4815-81a9-48a2-bebb-939063bf1228",
   "metadata": {},
   "outputs": [
    {
     "name": "stdout",
     "output_type": "stream",
     "text": [
      " * Serving Flask app '__main__' (lazy loading)\n",
      " * Environment: production\n",
      "\u001b[31m   WARNING: This is a development server. Do not use it in a production deployment.\u001b[0m\n",
      "\u001b[2m   Use a production WSGI server instead.\u001b[0m\n",
      " * Debug mode: off\n"
     ]
    },
    {
     "name": "stderr",
     "output_type": "stream",
     "text": [
      " * Running on all addresses (0.0.0.0)\n",
      "   WARNING: This is a development server. Do not use it in a production deployment.\n",
      " * Running on http://127.0.0.1:80\n",
      " * Running on http://192.168.0.24:80 (Press CTRL+C to quit)\n"
     ]
    }
   ],
   "source": [
    "from pywebio.input import *\n",
    "from pywebio.output import *\n",
    "from pywebio.platform.flask import webio_view\n",
    "from pywebio.session import run_js\n",
    "from flask import Flask\n",
    "import json\n",
    "\n",
    "from newsdataapi import NewsDataApiClient\n",
    "\n",
    "app = Flask(__name__)\n",
    "\n",
    "\n",
    "def generate_guid():\n",
    "    put_html(\"<h1>BREAKING NEWS!<h1>\")\n",
    "    put_text(\n",
    "        \"Get the last news about your subject\"\n",
    "    )\n",
    "    country = select(\"Choose your country\", [\"br\", \"us\", \"ca\"])\n",
    "    category = select(\"Choose your language\", [\"business\", \"food\", \"technology\"])\n",
    "    query = input('Search Terms', type=TEXT)\n",
    "\n",
    "    get_breaking_news(query, category, country)\n",
    "\n",
    "def get_breaking_news(query, category, country):\n",
    "    # API key authorization, Initialize the client with your API key\n",
    "    api = NewsDataApiClient(apikey=\"pub_XXXXXXXXXXXXXXXXXXXXXXXXXXXXXXX\")\n",
    "    # You can pass empty or with request parameters {ex. (country = \"us\")}\n",
    "    response = api.news_api(q=query, category=category,country = country)\n",
    "\n",
    "    json_data = response[\"results\"]\n",
    "    if json_data:\n",
    "        get_map_table(json_data)\n",
    "\n",
    "def get_map_table(str_json):\n",
    "    \n",
    "    put_html('<ul>')\n",
    "    for item in str_json:\n",
    "        put_html('<li><a href=\"'+item[\"link\"]+'\" target=\"_blank\">'+item[\"title\"]+'</a></li>')        \n",
    "    put_html('</ul>')\n",
    "    put_button(\"RESET\", onclick=lambda: run_js(\"window.location.reload()\"))\n",
    "\n",
    "app.add_url_rule(\n",
    "    \"/\", \"webio_view\", webio_view(generate_guid), methods=[\"GET\", \"POST\", \"OPTIONS\"]\n",
    ")\n",
    "app.run(host=\"0.0.0.0\", port=80)\n"
   ]
  },
  {
   "cell_type": "code",
   "execution_count": null,
   "id": "39f89fda-254d-4c7e-af9a-3cd1d72d2777",
   "metadata": {},
   "outputs": [],
   "source": []
  }
 ],
 "metadata": {
  "kernelspec": {
   "display_name": "Python 3 (ipykernel)",
   "language": "python",
   "name": "python3"
  },
  "language_info": {
   "codemirror_mode": {
    "name": "ipython",
    "version": 3
   },
   "file_extension": ".py",
   "mimetype": "text/x-python",
   "name": "python",
   "nbconvert_exporter": "python",
   "pygments_lexer": "ipython3",
   "version": "3.10.4"
  }
 },
 "nbformat": 4,
 "nbformat_minor": 5
}
